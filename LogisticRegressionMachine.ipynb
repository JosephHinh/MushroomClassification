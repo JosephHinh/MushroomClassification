{
  "nbformat": 4,
  "nbformat_minor": 0,
  "metadata": {
    "colab": {
      "provenance": []
    },
    "kernelspec": {
      "name": "python3",
      "display_name": "Python 3"
    },
    "language_info": {
      "name": "python"
    }
  },
  "cells": [
    {
      "cell_type": "code",
      "execution_count": null,
      "metadata": {
        "id": "U5U2wb05PUZH"
      },
      "outputs": [],
      "source": [
        "import pandas as pd\n",
        "import numpy as np\n",
        "import matplotlib.pyplot as plt\n",
        "import seaborn as sns\n",
        "from sklearn.model_selection import train_test_split\n",
        "from sklearn.utils import shuffle\n",
        "from sklearn.linear_model import LogisticRegression\n",
        "from sklearn.metrics import confusion_matrix, accuracy_score\n",
        "from sklearn.model_selection import cross_val_score"
      ]
    },
    {
      "cell_type": "markdown",
      "source": [
        "# **Data Cleanup**"
      ],
      "metadata": {
        "id": "NUd7q0F9PnDl"
      }
    },
    {
      "cell_type": "code",
      "source": [
        "df = pd.read_csv('mushrooms.csv')"
      ],
      "metadata": {
        "id": "xrqEDjuNPl6L"
      },
      "execution_count": null,
      "outputs": []
    },
    {
      "cell_type": "code",
      "source": [
        "# Check for missing values.\n",
        "missing_values = df.isin(['?']).sum()\n",
        "print(\"Missing values per feature:\\n\", missing_values[missing_values > 0])\n",
        "\n",
        "# Check for duplicate rows.\n",
        "duplicate_rows = df.duplicated().sum()\n",
        "print(f\"Duplicate rows: {duplicate_rows}\")\n",
        "\n",
        "# Data Cleaning: Replace '?' in 'stalk-root' with NaN and handle it.\n",
        "clean_df = df.copy()\n",
        "clean_df['stalk-root'] = clean_df['stalk-root'].replace('?', np.nan)\n",
        "\n",
        "# Drop columns that cause data leakage or have no variability.\n",
        "clean_df = clean_df.drop(columns=['veil-type', 'odor', 'gill-color', 'spore-print-color'])\n",
        "\n",
        "# Encode the target variable: 'e' for edible -> 0, 'p' for poisonous -> 1.\n",
        "clean_df['class'] = clean_df['class'].map({'e': 0, 'p': 1})\n",
        "\n",
        "# Separate features and target.\n",
        "X = clean_df.drop('class', axis=1)\n",
        "y = clean_df['class']\n",
        "\n",
        "# One-hot encode categorical features.\n",
        "X_encoded = pd.get_dummies(X)\n",
        "\n",
        "# Shuffle the entire dataset before splitting.\n",
        "X_shuffled, y_shuffled = shuffle(X_encoded, y, random_state=42)\n",
        "\n",
        "# Split the shuffled data: 80% train, 20% test.\n",
        "X_train_s, X_test_s, y_train_s, y_test_s = train_test_split(X_shuffled, y_shuffled, test_size=0.20, random_state=42, stratify=y_shuffled)\n",
        "print(\"Train shape:\", X_train_s.shape)\n",
        "print(\"Test shape:\", X_test_s.shape)"
      ],
      "metadata": {
        "colab": {
          "base_uri": "https://localhost:8080/"
        },
        "id": "nqDH96EjPqz_",
        "outputId": "325e568a-e2b5-4380-cbbd-66fecd2bc306"
      },
      "execution_count": null,
      "outputs": [
        {
          "output_type": "stream",
          "name": "stdout",
          "text": [
            "Missing values per feature:\n",
            " stalk-root    2480\n",
            "dtype: int64\n",
            "Duplicate rows: 0\n",
            "Train shape: (6499, 85)\n",
            "Test shape: (1625, 85)\n"
          ]
        }
      ]
    },
    {
      "cell_type": "markdown",
      "source": [
        "# **Machine Learning**\n",
        "with the Logistic Regression Model"
      ],
      "metadata": {
        "id": "eThGP8hIQ4UM"
      }
    },
    {
      "cell_type": "code",
      "source": [
        "# Initialize the LogisticRegression model\n",
        "lr_model = LogisticRegression(random_state=42)\n",
        "\n",
        "# Train the model on the shuffled data\n",
        "lr_model.fit(X_train_s, y_train_s)\n",
        "\n",
        "# Confusion Matrix\n",
        "y_test_pred = lr_model.predict(X_test_s)\n",
        "conf_matrix = confusion_matrix(y_test_s, y_test_pred)\n",
        "\n",
        "# Plot Confusion Matrix\n",
        "plt.figure(figsize=(6, 5))\n",
        "sns.heatmap(conf_matrix, annot=True, fmt=\"d\", cmap=\"inferno\", xticklabels=[\"Edible\", \"Poisonous\"], yticklabels=[\"Edible\", \"Poisonous\"])\n",
        "plt.xlabel(\"Predicted\")\n",
        "plt.ylabel(\"Actual\")\n",
        "plt.title(\"Confusion Matrix\")\n",
        "plt.show()\n",
        "\n",
        "accuracy=round(100-(5/(839+781+2+3)*100), 2)\n",
        "print(f\"Accuracy: {accuracy}%\")"
      ],
      "metadata": {
        "colab": {
          "base_uri": "https://localhost:8080/",
          "height": 504
        },
        "id": "kAIbw9-fQ13O",
        "outputId": "f89a0b3a-071c-49b7-b2fc-a40b61fe0ec4"
      },
      "execution_count": null,
      "outputs": [
        {
          "output_type": "display_data",
          "data": {
            "text/plain": [
              "<Figure size 600x500 with 2 Axes>"
            ],
            "image/png": "[encoded data removed]"
          },
          "metadata": {}
        },
        {
          "output_type": "stream",
          "name": "stdout",
          "text": [
            "Accuracy: 99.69%\n"
          ]
        }
      ]
    }
  ]
}