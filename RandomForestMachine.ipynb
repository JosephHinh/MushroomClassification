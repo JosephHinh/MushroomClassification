{
  "nbformat": 4,
  "nbformat_minor": 0,
  "metadata": {
    "colab": {
      "provenance": []
    },
    "kernelspec": {
      "name": "python3",
      "display_name": "Python 3"
    },
    "language_info": {
      "name": "python"
    }
  },
  "cells": [
    {
      "cell_type": "code",
      "execution_count": 1,
      "metadata": {
        "id": "EGU0Yd80_5NM"
      },
      "outputs": [],
      "source": [
        "import pandas as pd\n",
        "import numpy as np\n",
        "import matplotlib.pyplot as plt\n",
        "import seaborn as sns\n",
        "from sklearn.model_selection import train_test_split\n",
        "from sklearn.ensemble import RandomForestClassifier\n",
        "from sklearn.metrics import accuracy_score, confusion_matrix\n",
        "from sklearn.utils import shuffle"
      ]
    },
    {
      "cell_type": "markdown",
      "source": [
        "# **Data Cleanup**"
      ],
      "metadata": {
        "id": "3BltN52mBQhV"
      }
    },
    {
      "cell_type": "code",
      "source": [
        "df = pd.read_csv('mushrooms.csv')"
      ],
      "metadata": {
        "id": "_cPqMvGaAbNw"
      },
      "execution_count": 2,
      "outputs": []
    },
    {
      "cell_type": "code",
      "source": [
        "# Check for missing values\n",
        "missing_values = df.isin(['?']).sum()\n",
        "print(\"Missing values per feature:\\n\", missing_values[missing_values > 0])\n",
        "\n",
        "# Check for duplicate rows\n",
        "duplicate_rows = df.duplicated().sum()\n",
        "print(f\"Duplicate rows: {duplicate_rows}\")\n",
        "\n",
        "# Replace '?' in 'stalk-root' with NaN\n",
        "clean_df = df.copy()\n",
        "clean_df['stalk-root'] = clean_df['stalk-root'].replace('?', np.nan)\n",
        "\n",
        "# Drop columns with no variability or that introduce leakage\n",
        "clean_df = clean_df.drop(columns=['veil-type', 'odor', 'gill-color', 'spore-print-color'])\n",
        "\n",
        "# Encode target: 'e' -> 0 (edible), 'p' -> 1 (poisonous)\n",
        "clean_df['class'] = clean_df['class'].map({'e': 0, 'p': 1})\n",
        "\n",
        "# Separate features and labels\n",
        "X = clean_df.drop('class', axis=1)\n",
        "y = clean_df['class']\n",
        "\n",
        "# One-hot encode categorical features\n",
        "X_encoded = pd.get_dummies(X)\n",
        "\n",
        "# Shuffle the entire dataset\n",
        "X_shuffled, y_shuffled = shuffle(X_encoded, y, random_state=42)\n",
        "\n",
        "# Split data: 80% train, 20% test\n",
        "X_train, X_test, y_train, y_test = train_test_split(\n",
        "    X_shuffled, y_shuffled, test_size=0.20, random_state=42, stratify=y_shuffled\n",
        ")\n",
        "\n",
        "print(\"Train shape:\", X_train.shape)\n",
        "print(\"Test shape:\", X_test.shape)\n"
      ],
      "metadata": {
        "colab": {
          "base_uri": "https://localhost:8080/"
        },
        "id": "2VimaYI5Ankf",
        "outputId": "71e83b15-91df-4c60-8dbf-5457e778bcfa"
      },
      "execution_count": 5,
      "outputs": [
        {
          "output_type": "stream",
          "name": "stdout",
          "text": [
            "Missing values per feature:\n",
            " stalk-root    2480\n",
            "dtype: int64\n",
            "Duplicate rows: 0\n",
            "Train shape: (6499, 85)\n",
            "Test shape: (1625, 85)\n"
          ]
        }
      ]
    },
    {
      "cell_type": "markdown",
      "source": [
        "# **Machine Learning**"
      ],
      "metadata": {
        "id": "Bx3kXRr7BVIu"
      }
    },
    {
      "cell_type": "code",
      "source": [
        "# Initialize Random Forest\n",
        "rf_model = RandomForestClassifier(random_state=42)\n",
        "\n",
        "# Train the model\n",
        "rf_model.fit(X_train, y_train)\n",
        "\n",
        "# Predict on the test set\n",
        "y_test_pred = rf_model.predict(X_test)\n",
        "\n",
        "# Evaluate performance\n",
        "accuracy = accuracy_score(y_test, y_test_pred)\n",
        "print(f\"Test Accuracy: {accuracy:.3f}\")\n",
        "\n",
        "# Confusion Matrix\n",
        "conf_matrix = confusion_matrix(y_test, y_test_pred)\n",
        "\n",
        "# Plot Confusion Matrix\n",
        "plt.figure(figsize=(6, 5))\n",
        "sns.heatmap(conf_matrix, annot=True, fmt=\"d\", cmap=\"inferno\",\n",
        "            xticklabels=[\"Edible\", \"Poisonous\"], yticklabels=[\"Edible\", \"Poisonous\"])\n",
        "plt.xlabel(\"Predicted\")\n",
        "plt.ylabel(\"Actual\")\n",
        "plt.title(\"Confusion Matrix\")\n",
        "plt.show()"
      ],
      "metadata": {
        "colab": {
          "base_uri": "https://localhost:8080/",
          "height": 504
        },
        "id": "n0HuYwgvAp4_",
        "outputId": "1d57319a-7a61-4539-fb41-edb900f9c0c4"
      },
      "execution_count": 8,
      "outputs": [
        {
          "output_type": "stream",
          "name": "stdout",
          "text": [
            "Test Accuracy: 1.000\n"
          ]
        },
        {
          "output_type": "display_data",
          "data": {
            "text/plain": [
              "<Figure size 600x500 with 2 Axes>"
            ],
            "image/png": "[encoded data removed]"
          },
          "metadata": {}
        }
      ]
    }
  ]
}